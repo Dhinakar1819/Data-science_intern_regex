{
 "cells": [
  {
   "cell_type": "markdown",
   "id": "2c55057c",
   "metadata": {},
   "source": [
    "# Task-3\n",
    "# Name:Trivedula Dhinakar swamy\n",
    "# reg id: SIRSS1193"
   ]
  },
  {
   "cell_type": "markdown",
   "id": "1d4bde2c",
   "metadata": {},
   "source": [
    "# 1. Write a function to return nth term of Fibonacci sequence."
   ]
  },
  {
   "cell_type": "code",
   "execution_count": 3,
   "id": "b5b83ade",
   "metadata": {},
   "outputs": [
    {
     "name": "stdout",
     "output_type": "stream",
     "text": [
      "Enter a value: 10\n",
      "10 th term of fibbonacci sequence is:  34\n"
     ]
    }
   ],
   "source": [
    "def fib(a):\n",
    "    if a<0:\n",
    "        print(\"Fibbonacci can't be computed\")\n",
    "    elif a==1:\n",
    "        return 0\n",
    "    elif a==2:\n",
    "        return 1\n",
    "    else:\n",
    "        return fib(a-1)+fib(a-2)\n",
    "if __name__=='__main__':\n",
    "    a= int(input(\"Enter a value: \"))\n",
    "    print(a,\"th term of fibbonacci sequence is: \",fib(a))"
   ]
  },
  {
   "cell_type": "markdown",
   "id": "dd992285",
   "metadata": {},
   "source": [
    "# 2. Write a function to find out GCD of two numbers using EUCLID'S algorithm."
   ]
  },
  {
   "cell_type": "code",
   "execution_count": 4,
   "id": "72c2ab07",
   "metadata": {},
   "outputs": [
    {
     "name": "stdout",
     "output_type": "stream",
     "text": [
      "Enter a value: 12\n",
      "Enter b value: 4\n",
      "GCD of  12 and 4 is : 4\n"
     ]
    }
   ],
   "source": [
    "def gcd(a,b):\n",
    "    if a==0:\n",
    "        return b\n",
    "    else:\n",
    "        return(gcd(b%a,a))\n",
    "if __name__=='__main__':\n",
    "    a= int(input(\"Enter a value: \"))\n",
    "    b= int(input(\"Enter b value: \"))\n",
    "    print(\"GCD of \",a,\"and\",b,\"is :\",gcd(a,b))"
   ]
  },
  {
   "cell_type": "markdown",
   "id": "5d0d0126",
   "metadata": {},
   "source": [
    "# 3. Write a function to find LCM of two number in most optimizers way."
   ]
  },
  {
   "cell_type": "code",
   "execution_count": 5,
   "id": "c4cb0d61",
   "metadata": {},
   "outputs": [
    {
     "name": "stdout",
     "output_type": "stream",
     "text": [
      "Enter a value: 15\n",
      "Enter b value: 5\n",
      "LCM of  15 and 5 is : 15\n"
     ]
    }
   ],
   "source": [
    "def gcd(a,b):\n",
    "    if a==0:\n",
    "        return b\n",
    "    else:\n",
    "        return(gcd(b%a,a))\n",
    "def lcm(a,b):\n",
    "    lcm=a*b//gcd(a,b)\n",
    "    return lcm\n",
    "if __name__=='__main__':\n",
    "    a= int(input(\"Enter a value: \"))\n",
    "    b= int(input(\"Enter b value: \"))\n",
    "    print(\"LCM of \",a,\"and\",b,\"is :\",lcm(a,b))"
   ]
  }
 ],
 "metadata": {
  "kernelspec": {
   "display_name": "Python 3",
   "language": "python",
   "name": "python3"
  },
  "language_info": {
   "codemirror_mode": {
    "name": "ipython",
    "version": 3
   },
   "file_extension": ".py",
   "mimetype": "text/x-python",
   "name": "python",
   "nbconvert_exporter": "python",
   "pygments_lexer": "ipython3",
   "version": "3.8.8"
  }
 },
 "nbformat": 4,
 "nbformat_minor": 5
}
