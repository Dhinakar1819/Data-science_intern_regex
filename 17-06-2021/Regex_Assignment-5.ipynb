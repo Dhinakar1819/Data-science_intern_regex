{
 "cells": [
  {
   "cell_type": "markdown",
   "id": "3cbb2513",
   "metadata": {},
   "source": [
    "# Task-5\n",
    "# Name-Trivedula Dhinakar swamy\n",
    "# Reg Id-SIRSS1193"
   ]
  },
  {
   "cell_type": "markdown",
   "id": "d17a6418",
   "metadata": {},
   "source": [
    "## 1. Given a list of integers, write a function to return the sum of all prime numbers in that list."
   ]
  },
  {
   "cell_type": "code",
   "execution_count": 2,
   "id": "e34f61bc",
   "metadata": {},
   "outputs": [
    {
     "name": "stdout",
     "output_type": "stream",
     "text": [
      "enter numbers:1 2 3 4 5 6 7 89 \n",
      "Sum of Prime numbers in givent list is :  110\n"
     ]
    }
   ],
   "source": [
    "def prime(n):\n",
    "    if n==1 or n==0:\n",
    "        return False\n",
    "    for i in range(2,n//2):\n",
    "        if n%i==0:\n",
    "            return False\n",
    "    return True\n",
    "def sumPrime(l):\n",
    "    sum=0\n",
    "    for i in l:\n",
    "        if(prime(i)):\n",
    "            sum+=i\n",
    "    return sum\n",
    "if __name__=='__main__':\n",
    "    l=list(map(int,input(\"enter numbers:\").split()))\n",
    "    print(\"Sum of Prime numbers in givent list is : \",sumPrime(l))"
   ]
  },
  {
   "cell_type": "markdown",
   "id": "b3356429",
   "metadata": {},
   "source": [
    "## 2. Given a list of integers, write a function to check whether the list is strictly increasing or not."
   ]
  },
  {
   "cell_type": "code",
   "execution_count": 4,
   "id": "dffaa94d",
   "metadata": {},
   "outputs": [
    {
     "name": "stdout",
     "output_type": "stream",
     "text": [
      "enter numbers:1 2 3 4 5 6 \n",
      "List is Strictly Increasing ?:  True\n"
     ]
    }
   ],
   "source": [
    "def strict(l):\n",
    "    res = all(i < j for i, j in zip(l, l[1:]))\n",
    "    return res\n",
    "if __name__=='__main__':\n",
    "    l=list(map(int,input(\"enter numbers:\").split()))\n",
    "    print(\"List is Strictly Increasing ?: \",strict(l))"
   ]
  },
  {
   "cell_type": "markdown",
   "id": "dc68ab15",
   "metadata": {},
   "source": [
    "## 3. Write a function to check whether a given list is expanding or not (the difference between adjacent elements should keep on increasing)."
   ]
  },
  {
   "cell_type": "code",
   "execution_count": 9,
   "id": "89b24a66",
   "metadata": {},
   "outputs": [
    {
     "name": "stdout",
     "output_type": "stream",
     "text": [
      "enter number:1 2 3 4 5 62\n",
      "List is Expanding ?: \n",
      "True\n"
     ]
    }
   ],
   "source": [
    "def expand(k):\n",
    "    diff1=k[1]-k[0]\n",
    "    for i in range(2,len(k)):\n",
    "        diff=k[i]-k[i-1]\n",
    "        if(diff<diff1):\n",
    "            print('False')\n",
    "            break\n",
    "    else:\n",
    "        print('True')\n",
    "if __name__=='__main__':\n",
    "    l=list(map(int,input(\"enter numbers:\").split()))\n",
    "    print(\"List is Expanding ?: \")\n",
    "    expand(l)"
   ]
  },
  {
   "cell_type": "markdown",
   "id": "3cb0d1df",
   "metadata": {},
   "source": [
    "## 4. Write a function to calculate all permutations of a given string. (Without using itertools)"
   ]
  },
  {
   "cell_type": "code",
   "execution_count": 7,
   "id": "5765447e",
   "metadata": {},
   "outputs": [
    {
     "name": "stdout",
     "output_type": "stream",
     "text": [
      "enter string:xyz\n",
      "Permutations of given string xyz are\n",
      "xyz\n",
      "xzy\n",
      "yxz\n",
      "yzx\n",
      "zyx\n",
      "zxy\n"
     ]
    }
   ],
   "source": [
    "def toString(lst):\n",
    "    return ''.join(lst)\n",
    "def permute(a, l, r):\n",
    "    if l==r:\n",
    "        print(toString(a))\n",
    "    else:\n",
    "        for i in range(l,r+1):\n",
    "            a[l], a[i] = a[i], a[l]\n",
    "            permute(a, l+1, r)\n",
    "            a[l], a[i] = a[i], a[l] \n",
    "\n",
    "if __name__=='__main__':\n",
    "    string = input(\"enter string:\")\n",
    "    n = len(string)\n",
    "    a = list(string)\n",
    "    print('Permutations of given string '+string+' are')\n",
    "    permute(a, 0, n-1)"
   ]
  }
 ],
 "metadata": {
  "kernelspec": {
   "display_name": "Python 3",
   "language": "python",
   "name": "python3"
  },
  "language_info": {
   "codemirror_mode": {
    "name": "ipython",
    "version": 3
   },
   "file_extension": ".py",
   "mimetype": "text/x-python",
   "name": "python",
   "nbconvert_exporter": "python",
   "pygments_lexer": "ipython3",
   "version": "3.8.8"
  }
 },
 "nbformat": 4,
 "nbformat_minor": 5
}
