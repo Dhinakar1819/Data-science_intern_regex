{
 "cells": [
  {
   "cell_type": "markdown",
   "id": "b920a295",
   "metadata": {},
   "source": [
    "# Task-2\n",
    "# Name-TRIVEDULA DHINAKAR SWAMY\n",
    "# Reg Id-SIRSS1193"
   ]
  },
  {
   "cell_type": "markdown",
   "id": "47922997",
   "metadata": {},
   "source": [
    "# 1. Write a lambda expression to extract first word of a string."
   ]
  },
  {
   "cell_type": "code",
   "execution_count": 9,
   "id": "2b8e79ca",
   "metadata": {},
   "outputs": [
    {
     "name": "stdout",
     "output_type": "stream",
     "text": [
      "Enter string: hi how are you\n"
     ]
    },
    {
     "data": {
      "text/plain": [
       "'hi'"
      ]
     },
     "execution_count": 9,
     "metadata": {},
     "output_type": "execute_result"
    }
   ],
   "source": [
    "m=input(\"Enter string: \")\n",
    "n=lambda m:m.split()[0]\n",
    "n(m)"
   ]
  },
  {
   "cell_type": "markdown",
   "id": "340230b9",
   "metadata": {},
   "source": [
    "# 2. Write a function to extract first word of s string (with many words separated by space)."
   ]
  },
  {
   "cell_type": "code",
   "execution_count": 10,
   "id": "d9a1a5f2",
   "metadata": {},
   "outputs": [
    {
     "name": "stdout",
     "output_type": "stream",
     "text": [
      "Enter string : hi how are you\n",
      "hi\n"
     ]
    }
   ],
   "source": [
    "def extract(m):\n",
    "    n=m.split()\n",
    "    print(n[0])\n",
    "m=input(\"Enter string : \")\n",
    "extract(m)"
   ]
  },
  {
   "cell_type": "markdown",
   "id": "30714627",
   "metadata": {},
   "source": [
    "# 3. Extract the first word from every string from a list of strings by using map function."
   ]
  },
  {
   "cell_type": "code",
   "execution_count": 11,
   "id": "edf4e1f4",
   "metadata": {},
   "outputs": [
    {
     "name": "stdout",
     "output_type": "stream",
     "text": [
      "['hi', 'hello', 'Dhinakar']\n"
     ]
    }
   ],
   "source": [
    "l=['hi dhinakar','hello ,how are you ','Dhinakar swamy']\n",
    "m=lambda n:n.split()[0]\n",
    "print(list(map(m,l)))"
   ]
  },
  {
   "cell_type": "markdown",
   "id": "ff43da2d",
   "metadata": {},
   "source": [
    "# 4. Write a function to return a list of prime factors of a given number."
   ]
  },
  {
   "cell_type": "code",
   "execution_count": 12,
   "id": "50dbe4bf",
   "metadata": {},
   "outputs": [
    {
     "name": "stdout",
     "output_type": "stream",
     "text": [
      "Enter a number:45\n",
      "prime factors of  45 are : [3, 5]\n"
     ]
    }
   ],
   "source": [
    "def prime(n):\n",
    "    for i in range(2,n):\n",
    "        if(n%i==0):\n",
    "            return False\n",
    "            break\n",
    "    else:\n",
    "        return True\n",
    "def primef(n):\n",
    "    l=[]\n",
    "    for i in range(2,n+1):\n",
    "        if(n%i==0):\n",
    "            if(prime(i)):\n",
    "                l.append(i)\n",
    "    return l\n",
    "n=int(input('Enter a number:'))\n",
    "print('prime factors of ',n,'are :',primef(n)) "
   ]
  },
  {
   "cell_type": "markdown",
   "id": "cdf9e95a",
   "metadata": {},
   "source": [
    "# 5. Write a function that finds 2nd largest among 4 numbers (Repetitions are allowed,without sorting)."
   ]
  },
  {
   "cell_type": "code",
   "execution_count": 13,
   "id": "a6943dfc",
   "metadata": {},
   "outputs": [
    {
     "name": "stdout",
     "output_type": "stream",
     "text": [
      "Enter any four numbers : 23 12 12 45\n",
      "23\n"
     ]
    }
   ],
   "source": [
    "def secondlarge(l):\n",
    "    new_list=set(l)\n",
    "    new_list.remove(max(new_list))\n",
    "    print(max(new_list))\n",
    "l = [int(i) for i in input(\"Enter any four numbers : \").split()]\n",
    "secondlarge(l)"
   ]
  }
 ],
 "metadata": {
  "kernelspec": {
   "display_name": "Python 3",
   "language": "python",
   "name": "python3"
  },
  "language_info": {
   "codemirror_mode": {
    "name": "ipython",
    "version": 3
   },
   "file_extension": ".py",
   "mimetype": "text/x-python",
   "name": "python",
   "nbconvert_exporter": "python",
   "pygments_lexer": "ipython3",
   "version": "3.8.8"
  }
 },
 "nbformat": 4,
 "nbformat_minor": 5
}
